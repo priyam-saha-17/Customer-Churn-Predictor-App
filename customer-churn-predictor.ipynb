{
 "cells": [
  {
   "cell_type": "markdown",
   "id": "05040e26",
   "metadata": {
    "papermill": {
     "duration": 0.017021,
     "end_time": "2023-08-25T20:59:22.502440",
     "exception": false,
     "start_time": "2023-08-25T20:59:22.485419",
     "status": "completed"
    },
    "tags": []
   },
   "source": [
    "## Imports"
   ]
  },
  {
   "cell_type": "code",
   "execution_count": 1,
   "id": "6124f24c",
   "metadata": {
    "execution": {
     "iopub.execute_input": "2023-08-25T20:59:22.539313Z",
     "iopub.status.busy": "2023-08-25T20:59:22.538766Z",
     "iopub.status.idle": "2023-08-25T20:59:24.359698Z",
     "shell.execute_reply": "2023-08-25T20:59:24.358071Z"
    },
    "papermill": {
     "duration": 1.84443,
     "end_time": "2023-08-25T20:59:24.363453",
     "exception": false,
     "start_time": "2023-08-25T20:59:22.519023",
     "status": "completed"
    },
    "tags": []
   },
   "outputs": [
    {
     "name": "stderr",
     "output_type": "stream",
     "text": [
      "/opt/conda/lib/python3.10/site-packages/scipy/__init__.py:146: UserWarning: A NumPy version >=1.16.5 and <1.23.0 is required for this version of SciPy (detected version 1.23.5\n",
      "  warnings.warn(f\"A NumPy version >={np_minversion} and <{np_maxversion}\"\n"
     ]
    }
   ],
   "source": [
    "import numpy as np\n",
    "import pandas as pd\n",
    "import matplotlib.pyplot as plt\n",
    "import seaborn as sns"
   ]
  },
  {
   "cell_type": "markdown",
   "id": "ffcf88e6",
   "metadata": {
    "papermill": {
     "duration": 0.017884,
     "end_time": "2023-08-25T20:59:24.401598",
     "exception": false,
     "start_time": "2023-08-25T20:59:24.383714",
     "status": "completed"
    },
    "tags": []
   },
   "source": [
    "## Data Loading and Exploration"
   ]
  },
  {
   "cell_type": "markdown",
   "id": "b60eb188",
   "metadata": {
    "papermill": {
     "duration": 0.017889,
     "end_time": "2023-08-25T20:59:24.436560",
     "exception": false,
     "start_time": "2023-08-25T20:59:24.418671",
     "status": "completed"
    },
    "tags": []
   },
   "source": [
    "#### Loading the data"
   ]
  },
  {
   "cell_type": "code",
   "execution_count": 2,
   "id": "7b3b996f",
   "metadata": {
    "execution": {
     "iopub.execute_input": "2023-08-25T20:59:24.476343Z",
     "iopub.status.busy": "2023-08-25T20:59:24.475857Z",
     "iopub.status.idle": "2023-08-25T20:59:24.804353Z",
     "shell.execute_reply": "2023-08-25T20:59:24.802537Z"
    },
    "papermill": {
     "duration": 0.352221,
     "end_time": "2023-08-25T20:59:24.807009",
     "exception": false,
     "start_time": "2023-08-25T20:59:24.454788",
     "status": "completed"
    },
    "tags": []
   },
   "outputs": [
    {
     "data": {
      "text/html": [
       "<div>\n",
       "<style scoped>\n",
       "    .dataframe tbody tr th:only-of-type {\n",
       "        vertical-align: middle;\n",
       "    }\n",
       "\n",
       "    .dataframe tbody tr th {\n",
       "        vertical-align: top;\n",
       "    }\n",
       "\n",
       "    .dataframe thead th {\n",
       "        text-align: right;\n",
       "    }\n",
       "</style>\n",
       "<table border=\"1\" class=\"dataframe\">\n",
       "  <thead>\n",
       "    <tr style=\"text-align: right;\">\n",
       "      <th></th>\n",
       "      <th>CustomerID</th>\n",
       "      <th>Name</th>\n",
       "      <th>Age</th>\n",
       "      <th>Gender</th>\n",
       "      <th>Location</th>\n",
       "      <th>Subscription_Length_Months</th>\n",
       "      <th>Monthly_Bill</th>\n",
       "      <th>Total_Usage_GB</th>\n",
       "      <th>Churn</th>\n",
       "    </tr>\n",
       "  </thead>\n",
       "  <tbody>\n",
       "    <tr>\n",
       "      <th>0</th>\n",
       "      <td>1</td>\n",
       "      <td>Customer_1</td>\n",
       "      <td>63</td>\n",
       "      <td>Male</td>\n",
       "      <td>Los Angeles</td>\n",
       "      <td>17</td>\n",
       "      <td>73.36</td>\n",
       "      <td>236</td>\n",
       "      <td>0</td>\n",
       "    </tr>\n",
       "    <tr>\n",
       "      <th>1</th>\n",
       "      <td>2</td>\n",
       "      <td>Customer_2</td>\n",
       "      <td>62</td>\n",
       "      <td>Female</td>\n",
       "      <td>New York</td>\n",
       "      <td>1</td>\n",
       "      <td>48.76</td>\n",
       "      <td>172</td>\n",
       "      <td>0</td>\n",
       "    </tr>\n",
       "    <tr>\n",
       "      <th>2</th>\n",
       "      <td>3</td>\n",
       "      <td>Customer_3</td>\n",
       "      <td>24</td>\n",
       "      <td>Female</td>\n",
       "      <td>Los Angeles</td>\n",
       "      <td>5</td>\n",
       "      <td>85.47</td>\n",
       "      <td>460</td>\n",
       "      <td>0</td>\n",
       "    </tr>\n",
       "    <tr>\n",
       "      <th>3</th>\n",
       "      <td>4</td>\n",
       "      <td>Customer_4</td>\n",
       "      <td>36</td>\n",
       "      <td>Female</td>\n",
       "      <td>Miami</td>\n",
       "      <td>3</td>\n",
       "      <td>97.94</td>\n",
       "      <td>297</td>\n",
       "      <td>1</td>\n",
       "    </tr>\n",
       "    <tr>\n",
       "      <th>4</th>\n",
       "      <td>5</td>\n",
       "      <td>Customer_5</td>\n",
       "      <td>46</td>\n",
       "      <td>Female</td>\n",
       "      <td>Miami</td>\n",
       "      <td>19</td>\n",
       "      <td>58.14</td>\n",
       "      <td>266</td>\n",
       "      <td>0</td>\n",
       "    </tr>\n",
       "  </tbody>\n",
       "</table>\n",
       "</div>"
      ],
      "text/plain": [
       "   CustomerID        Name  Age  Gender     Location  \\\n",
       "0           1  Customer_1   63    Male  Los Angeles   \n",
       "1           2  Customer_2   62  Female     New York   \n",
       "2           3  Customer_3   24  Female  Los Angeles   \n",
       "3           4  Customer_4   36  Female        Miami   \n",
       "4           5  Customer_5   46  Female        Miami   \n",
       "\n",
       "   Subscription_Length_Months  Monthly_Bill  Total_Usage_GB  Churn  \n",
       "0                          17         73.36             236      0  \n",
       "1                           1         48.76             172      0  \n",
       "2                           5         85.47             460      0  \n",
       "3                           3         97.94             297      1  \n",
       "4                          19         58.14             266      0  "
      ]
     },
     "execution_count": 2,
     "metadata": {},
     "output_type": "execute_result"
    }
   ],
   "source": [
    "path = '/kaggle/input/sunbase-data-ml-intern-assignment/customer_churn_large_dataset.csv'\n",
    "data = pd.read_csv(path)\n",
    "data.head()"
   ]
  },
  {
   "cell_type": "markdown",
   "id": "73f02c21",
   "metadata": {
    "papermill": {
     "duration": 0.017063,
     "end_time": "2023-08-25T20:59:24.841418",
     "exception": false,
     "start_time": "2023-08-25T20:59:24.824355",
     "status": "completed"
    },
    "tags": []
   },
   "source": [
    "#### Summary statistics"
   ]
  },
  {
   "cell_type": "code",
   "execution_count": 3,
   "id": "557f3f19",
   "metadata": {
    "execution": {
     "iopub.execute_input": "2023-08-25T20:59:24.877833Z",
     "iopub.status.busy": "2023-08-25T20:59:24.877314Z",
     "iopub.status.idle": "2023-08-25T20:59:24.937675Z",
     "shell.execute_reply": "2023-08-25T20:59:24.936538Z"
    },
    "papermill": {
     "duration": 0.08193,
     "end_time": "2023-08-25T20:59:24.940431",
     "exception": false,
     "start_time": "2023-08-25T20:59:24.858501",
     "status": "completed"
    },
    "tags": []
   },
   "outputs": [
    {
     "data": {
      "text/html": [
       "<div>\n",
       "<style scoped>\n",
       "    .dataframe tbody tr th:only-of-type {\n",
       "        vertical-align: middle;\n",
       "    }\n",
       "\n",
       "    .dataframe tbody tr th {\n",
       "        vertical-align: top;\n",
       "    }\n",
       "\n",
       "    .dataframe thead th {\n",
       "        text-align: right;\n",
       "    }\n",
       "</style>\n",
       "<table border=\"1\" class=\"dataframe\">\n",
       "  <thead>\n",
       "    <tr style=\"text-align: right;\">\n",
       "      <th></th>\n",
       "      <th>CustomerID</th>\n",
       "      <th>Age</th>\n",
       "      <th>Subscription_Length_Months</th>\n",
       "      <th>Monthly_Bill</th>\n",
       "      <th>Total_Usage_GB</th>\n",
       "      <th>Churn</th>\n",
       "    </tr>\n",
       "  </thead>\n",
       "  <tbody>\n",
       "    <tr>\n",
       "      <th>count</th>\n",
       "      <td>100000.000000</td>\n",
       "      <td>100000.000000</td>\n",
       "      <td>100000.000000</td>\n",
       "      <td>100000.000000</td>\n",
       "      <td>100000.000000</td>\n",
       "      <td>100000.000000</td>\n",
       "    </tr>\n",
       "    <tr>\n",
       "      <th>mean</th>\n",
       "      <td>50000.500000</td>\n",
       "      <td>44.027020</td>\n",
       "      <td>12.490100</td>\n",
       "      <td>65.053197</td>\n",
       "      <td>274.393650</td>\n",
       "      <td>0.497790</td>\n",
       "    </tr>\n",
       "    <tr>\n",
       "      <th>std</th>\n",
       "      <td>28867.657797</td>\n",
       "      <td>15.280283</td>\n",
       "      <td>6.926461</td>\n",
       "      <td>20.230696</td>\n",
       "      <td>130.463063</td>\n",
       "      <td>0.499998</td>\n",
       "    </tr>\n",
       "    <tr>\n",
       "      <th>min</th>\n",
       "      <td>1.000000</td>\n",
       "      <td>18.000000</td>\n",
       "      <td>1.000000</td>\n",
       "      <td>30.000000</td>\n",
       "      <td>50.000000</td>\n",
       "      <td>0.000000</td>\n",
       "    </tr>\n",
       "    <tr>\n",
       "      <th>25%</th>\n",
       "      <td>25000.750000</td>\n",
       "      <td>31.000000</td>\n",
       "      <td>6.000000</td>\n",
       "      <td>47.540000</td>\n",
       "      <td>161.000000</td>\n",
       "      <td>0.000000</td>\n",
       "    </tr>\n",
       "    <tr>\n",
       "      <th>50%</th>\n",
       "      <td>50000.500000</td>\n",
       "      <td>44.000000</td>\n",
       "      <td>12.000000</td>\n",
       "      <td>65.010000</td>\n",
       "      <td>274.000000</td>\n",
       "      <td>0.000000</td>\n",
       "    </tr>\n",
       "    <tr>\n",
       "      <th>75%</th>\n",
       "      <td>75000.250000</td>\n",
       "      <td>57.000000</td>\n",
       "      <td>19.000000</td>\n",
       "      <td>82.640000</td>\n",
       "      <td>387.000000</td>\n",
       "      <td>1.000000</td>\n",
       "    </tr>\n",
       "    <tr>\n",
       "      <th>max</th>\n",
       "      <td>100000.000000</td>\n",
       "      <td>70.000000</td>\n",
       "      <td>24.000000</td>\n",
       "      <td>100.000000</td>\n",
       "      <td>500.000000</td>\n",
       "      <td>1.000000</td>\n",
       "    </tr>\n",
       "  </tbody>\n",
       "</table>\n",
       "</div>"
      ],
      "text/plain": [
       "          CustomerID            Age  Subscription_Length_Months  \\\n",
       "count  100000.000000  100000.000000               100000.000000   \n",
       "mean    50000.500000      44.027020                   12.490100   \n",
       "std     28867.657797      15.280283                    6.926461   \n",
       "min         1.000000      18.000000                    1.000000   \n",
       "25%     25000.750000      31.000000                    6.000000   \n",
       "50%     50000.500000      44.000000                   12.000000   \n",
       "75%     75000.250000      57.000000                   19.000000   \n",
       "max    100000.000000      70.000000                   24.000000   \n",
       "\n",
       "        Monthly_Bill  Total_Usage_GB          Churn  \n",
       "count  100000.000000   100000.000000  100000.000000  \n",
       "mean       65.053197      274.393650       0.497790  \n",
       "std        20.230696      130.463063       0.499998  \n",
       "min        30.000000       50.000000       0.000000  \n",
       "25%        47.540000      161.000000       0.000000  \n",
       "50%        65.010000      274.000000       0.000000  \n",
       "75%        82.640000      387.000000       1.000000  \n",
       "max       100.000000      500.000000       1.000000  "
      ]
     },
     "execution_count": 3,
     "metadata": {},
     "output_type": "execute_result"
    }
   ],
   "source": [
    "# Simple output of the train dataset to view some of the min/max/varition of the dataset features.\n",
    "\n",
    "data.describe()"
   ]
  },
  {
   "cell_type": "markdown",
   "id": "907091c6",
   "metadata": {
    "papermill": {
     "duration": 0.016932,
     "end_time": "2023-08-25T20:59:24.974926",
     "exception": false,
     "start_time": "2023-08-25T20:59:24.957994",
     "status": "completed"
    },
    "tags": []
   },
   "source": [
    "#### Data-types of columns"
   ]
  },
  {
   "cell_type": "code",
   "execution_count": 4,
   "id": "c0e35129",
   "metadata": {
    "execution": {
     "iopub.execute_input": "2023-08-25T20:59:25.012859Z",
     "iopub.status.busy": "2023-08-25T20:59:25.012025Z",
     "iopub.status.idle": "2023-08-25T20:59:25.139691Z",
     "shell.execute_reply": "2023-08-25T20:59:25.137825Z"
    },
    "papermill": {
     "duration": 0.149614,
     "end_time": "2023-08-25T20:59:25.142273",
     "exception": false,
     "start_time": "2023-08-25T20:59:24.992659",
     "status": "completed"
    },
    "tags": []
   },
   "outputs": [
    {
     "name": "stdout",
     "output_type": "stream",
     "text": [
      "<class 'pandas.core.frame.DataFrame'>\n",
      "RangeIndex: 100000 entries, 0 to 99999\n",
      "Data columns (total 9 columns):\n",
      " #   Column                      Non-Null Count   Dtype  \n",
      "---  ------                      --------------   -----  \n",
      " 0   CustomerID                  100000 non-null  int64  \n",
      " 1   Name                        100000 non-null  object \n",
      " 2   Age                         100000 non-null  int64  \n",
      " 3   Gender                      100000 non-null  object \n",
      " 4   Location                    100000 non-null  object \n",
      " 5   Subscription_Length_Months  100000 non-null  int64  \n",
      " 6   Monthly_Bill                100000 non-null  float64\n",
      " 7   Total_Usage_GB              100000 non-null  int64  \n",
      " 8   Churn                       100000 non-null  int64  \n",
      "dtypes: float64(1), int64(5), object(3)\n",
      "memory usage: 6.9+ MB\n"
     ]
    }
   ],
   "source": [
    "# information regarding datatypes of columns in dataset\n",
    "\n",
    "data.info()"
   ]
  },
  {
   "cell_type": "markdown",
   "id": "0b96507b",
   "metadata": {
    "papermill": {
     "duration": 0.017182,
     "end_time": "2023-08-25T20:59:25.176952",
     "exception": false,
     "start_time": "2023-08-25T20:59:25.159770",
     "status": "completed"
    },
    "tags": []
   },
   "source": [
    "#### CHECKING FOR NULL VALUES: Since there are no missing values, therefore we do not need imputations using mean, mode etc."
   ]
  },
  {
   "cell_type": "code",
   "execution_count": 5,
   "id": "bbe4d34a",
   "metadata": {
    "execution": {
     "iopub.execute_input": "2023-08-25T20:59:25.214046Z",
     "iopub.status.busy": "2023-08-25T20:59:25.213588Z",
     "iopub.status.idle": "2023-08-25T20:59:26.931710Z",
     "shell.execute_reply": "2023-08-25T20:59:26.930533Z"
    },
    "papermill": {
     "duration": 1.740053,
     "end_time": "2023-08-25T20:59:26.934371",
     "exception": false,
     "start_time": "2023-08-25T20:59:25.194318",
     "status": "completed"
    },
    "tags": []
   },
   "outputs": [
    {
     "name": "stdout",
     "output_type": "stream",
     "text": [
      "CustomerID                    0\n",
      "Name                          0\n",
      "Age                           0\n",
      "Gender                        0\n",
      "Location                      0\n",
      "Subscription_Length_Months    0\n",
      "Monthly_Bill                  0\n",
      "Total_Usage_GB                0\n",
      "Churn                         0\n",
      "dtype: int64\n"
     ]
    },
    {
     "data": {
      "image/png": "[encoded data removed]",
      "text/plain": [
       "<Figure size 640x480 with 1 Axes>"
      ]
     },
     "metadata": {},
     "output_type": "display_data"
    }
   ],
   "source": [
    "# Checking for null values in dataset\n",
    "\n",
    "sns.heatmap(data.isnull(),yticklabels=False,cbar=False, cmap='YlGnBu')\n",
    "\n",
    "print(data.isnull().sum())"
   ]
  },
  {
   "cell_type": "markdown",
   "id": "c8eb6ac4",
   "metadata": {
    "papermill": {
     "duration": 0.017507,
     "end_time": "2023-08-25T20:59:26.969742",
     "exception": false,
     "start_time": "2023-08-25T20:59:26.952235",
     "status": "completed"
    },
    "tags": []
   },
   "source": [
    "#### Dataset shape"
   ]
  },
  {
   "cell_type": "code",
   "execution_count": 6,
   "id": "55f64e87",
   "metadata": {
    "execution": {
     "iopub.execute_input": "2023-08-25T20:59:27.007782Z",
     "iopub.status.busy": "2023-08-25T20:59:27.007350Z",
     "iopub.status.idle": "2023-08-25T20:59:27.016339Z",
     "shell.execute_reply": "2023-08-25T20:59:27.014725Z"
    },
    "papermill": {
     "duration": 0.031192,
     "end_time": "2023-08-25T20:59:27.018851",
     "exception": false,
     "start_time": "2023-08-25T20:59:26.987659",
     "status": "completed"
    },
    "tags": []
   },
   "outputs": [
    {
     "data": {
      "text/plain": [
       "(100000, 9)"
      ]
     },
     "execution_count": 6,
     "metadata": {},
     "output_type": "execute_result"
    }
   ],
   "source": [
    "data.shape"
   ]
  },
  {
   "cell_type": "markdown",
   "id": "e8ab87e6",
   "metadata": {
    "papermill": {
     "duration": 0.018149,
     "end_time": "2023-08-25T20:59:27.055124",
     "exception": false,
     "start_time": "2023-08-25T20:59:27.036975",
     "status": "completed"
    },
    "tags": []
   },
   "source": [
    "#### Dataset HISTOGRAM PLOTS: From the histogram plots, it seems that there are no outliers, so this question can also be ignored."
   ]
  },
  {
   "cell_type": "code",
   "execution_count": 7,
   "id": "23b278e3",
   "metadata": {
    "execution": {
     "iopub.execute_input": "2023-08-25T20:59:27.093326Z",
     "iopub.status.busy": "2023-08-25T20:59:27.092934Z",
     "iopub.status.idle": "2023-08-25T20:59:28.428476Z",
     "shell.execute_reply": "2023-08-25T20:59:28.427017Z"
    },
    "papermill": {
     "duration": 1.357895,
     "end_time": "2023-08-25T20:59:28.431241",
     "exception": false,
     "start_time": "2023-08-25T20:59:27.073346",
     "status": "completed"
    },
    "tags": []
   },
   "outputs": [
    {
     "data": {
      "image/png": "[encoded data removed]",
      "text/plain": [
       "<Figure size 800x800 with 6 Axes>"
      ]
     },
     "metadata": {},
     "output_type": "display_data"
    }
   ],
   "source": [
    "data.hist(figsize=(8,8))\n",
    "plt.show()"
   ]
  },
  {
   "cell_type": "markdown",
   "id": "6939f3ed",
   "metadata": {
    "papermill": {
     "duration": 0.020912,
     "end_time": "2023-08-25T20:59:28.471933",
     "exception": false,
     "start_time": "2023-08-25T20:59:28.451021",
     "status": "completed"
    },
    "tags": []
   },
   "source": [
    "#### No of unique values in each column"
   ]
  },
  {
   "cell_type": "code",
   "execution_count": 8,
   "id": "8b0bc571",
   "metadata": {
    "execution": {
     "iopub.execute_input": "2023-08-25T20:59:28.522960Z",
     "iopub.status.busy": "2023-08-25T20:59:28.522432Z",
     "iopub.status.idle": "2023-08-25T20:59:28.545746Z",
     "shell.execute_reply": "2023-08-25T20:59:28.543690Z"
    },
    "papermill": {
     "duration": 0.052133,
     "end_time": "2023-08-25T20:59:28.548188",
     "exception": false,
     "start_time": "2023-08-25T20:59:28.496055",
     "status": "completed"
    },
    "tags": []
   },
   "outputs": [
    {
     "name": "stdout",
     "output_type": "stream",
     "text": [
      "5\n"
     ]
    }
   ],
   "source": [
    "print(len(pd.unique(data['Location'])))"
   ]
  },
  {
   "cell_type": "code",
   "execution_count": 9,
   "id": "60e9aee9",
   "metadata": {
    "execution": {
     "iopub.execute_input": "2023-08-25T20:59:28.594119Z",
     "iopub.status.busy": "2023-08-25T20:59:28.593693Z",
     "iopub.status.idle": "2023-08-25T20:59:28.632448Z",
     "shell.execute_reply": "2023-08-25T20:59:28.630560Z"
    },
    "papermill": {
     "duration": 0.063513,
     "end_time": "2023-08-25T20:59:28.634951",
     "exception": false,
     "start_time": "2023-08-25T20:59:28.571438",
     "status": "completed"
    },
    "tags": []
   },
   "outputs": [
    {
     "name": "stdout",
     "output_type": "stream",
     "text": [
      "['Los Angeles', 'New York', 'Miami', 'Chicago', 'Houston']\n"
     ]
    }
   ],
   "source": [
    "locations = []\n",
    "for loc in data['Location']:\n",
    "    if loc not in locations:\n",
    "        locations.append(loc)\n",
    "print(locations)"
   ]
  },
  {
   "cell_type": "code",
   "execution_count": 10,
   "id": "550abe83",
   "metadata": {
    "execution": {
     "iopub.execute_input": "2023-08-25T20:59:28.676633Z",
     "iopub.status.busy": "2023-08-25T20:59:28.676254Z",
     "iopub.status.idle": "2023-08-25T20:59:28.755634Z",
     "shell.execute_reply": "2023-08-25T20:59:28.754213Z"
    },
    "papermill": {
     "duration": 0.103672,
     "end_time": "2023-08-25T20:59:28.758498",
     "exception": false,
     "start_time": "2023-08-25T20:59:28.654826",
     "status": "completed"
    },
    "tags": []
   },
   "outputs": [
    {
     "data": {
      "text/plain": [
       "CustomerID                    100000\n",
       "Name                          100000\n",
       "Age                               53\n",
       "Gender                             2\n",
       "Location                           5\n",
       "Subscription_Length_Months        24\n",
       "Monthly_Bill                    7001\n",
       "Total_Usage_GB                   451\n",
       "Churn                              2\n",
       "dtype: int64"
      ]
     },
     "execution_count": 10,
     "metadata": {},
     "output_type": "execute_result"
    }
   ],
   "source": [
    "# no. of unique values in each column\n",
    "\n",
    "data.nunique()"
   ]
  },
  {
   "cell_type": "markdown",
   "id": "35b6e50d",
   "metadata": {
    "papermill": {
     "duration": 0.019815,
     "end_time": "2023-08-25T20:59:28.798260",
     "exception": false,
     "start_time": "2023-08-25T20:59:28.778445",
     "status": "completed"
    },
    "tags": []
   },
   "source": [
    "## Data Preparation"
   ]
  },
  {
   "cell_type": "markdown",
   "id": "bbd5c3b9",
   "metadata": {
    "papermill": {
     "duration": 0.019472,
     "end_time": "2023-08-25T20:59:28.837923",
     "exception": false,
     "start_time": "2023-08-25T20:59:28.818451",
     "status": "completed"
    },
    "tags": []
   },
   "source": [
    "#### CustomerID and Name do not influence the customer churn, so they can be dropped from our dataset"
   ]
  },
  {
   "cell_type": "code",
   "execution_count": 11,
   "id": "eff7aaa4",
   "metadata": {
    "execution": {
     "iopub.execute_input": "2023-08-25T20:59:28.878972Z",
     "iopub.status.busy": "2023-08-25T20:59:28.878097Z",
     "iopub.status.idle": "2023-08-25T20:59:28.891811Z",
     "shell.execute_reply": "2023-08-25T20:59:28.890179Z"
    },
    "papermill": {
     "duration": 0.037057,
     "end_time": "2023-08-25T20:59:28.894350",
     "exception": false,
     "start_time": "2023-08-25T20:59:28.857293",
     "status": "completed"
    },
    "tags": []
   },
   "outputs": [],
   "source": [
    "## Dropping unnecessary columns\n",
    "\n",
    "\n",
    "data = data.drop(columns=['CustomerID', 'Name'])"
   ]
  },
  {
   "cell_type": "code",
   "execution_count": 12,
   "id": "51a732ee",
   "metadata": {
    "execution": {
     "iopub.execute_input": "2023-08-25T20:59:28.935262Z",
     "iopub.status.busy": "2023-08-25T20:59:28.934835Z",
     "iopub.status.idle": "2023-08-25T20:59:29.011627Z",
     "shell.execute_reply": "2023-08-25T20:59:29.010463Z"
    },
    "papermill": {
     "duration": 0.100183,
     "end_time": "2023-08-25T20:59:29.014164",
     "exception": false,
     "start_time": "2023-08-25T20:59:28.913981",
     "status": "completed"
    },
    "tags": []
   },
   "outputs": [
    {
     "name": "stdout",
     "output_type": "stream",
     "text": [
      "<class 'pandas.core.frame.DataFrame'>\n",
      "RangeIndex: 100000 entries, 0 to 99999\n",
      "Data columns (total 7 columns):\n",
      " #   Column                      Non-Null Count   Dtype  \n",
      "---  ------                      --------------   -----  \n",
      " 0   Age                         100000 non-null  int64  \n",
      " 1   Gender                      100000 non-null  object \n",
      " 2   Location                    100000 non-null  object \n",
      " 3   Subscription_Length_Months  100000 non-null  int64  \n",
      " 4   Monthly_Bill                100000 non-null  float64\n",
      " 5   Total_Usage_GB              100000 non-null  int64  \n",
      " 6   Churn                       100000 non-null  int64  \n",
      "dtypes: float64(1), int64(4), object(2)\n",
      "memory usage: 5.3+ MB\n"
     ]
    }
   ],
   "source": [
    "data.info()"
   ]
  },
  {
   "cell_type": "code",
   "execution_count": 13,
   "id": "9dec6b6b",
   "metadata": {
    "execution": {
     "iopub.execute_input": "2023-08-25T20:59:29.055633Z",
     "iopub.status.busy": "2023-08-25T20:59:29.054681Z",
     "iopub.status.idle": "2023-08-25T20:59:29.069123Z",
     "shell.execute_reply": "2023-08-25T20:59:29.067948Z"
    },
    "papermill": {
     "duration": 0.039037,
     "end_time": "2023-08-25T20:59:29.072471",
     "exception": false,
     "start_time": "2023-08-25T20:59:29.033434",
     "status": "completed"
    },
    "tags": []
   },
   "outputs": [
    {
     "data": {
      "text/html": [
       "<div>\n",
       "<style scoped>\n",
       "    .dataframe tbody tr th:only-of-type {\n",
       "        vertical-align: middle;\n",
       "    }\n",
       "\n",
       "    .dataframe tbody tr th {\n",
       "        vertical-align: top;\n",
       "    }\n",
       "\n",
       "    .dataframe thead th {\n",
       "        text-align: right;\n",
       "    }\n",
       "</style>\n",
       "<table border=\"1\" class=\"dataframe\">\n",
       "  <thead>\n",
       "    <tr style=\"text-align: right;\">\n",
       "      <th></th>\n",
       "      <th>Age</th>\n",
       "      <th>Gender</th>\n",
       "      <th>Location</th>\n",
       "      <th>Subscription_Length_Months</th>\n",
       "      <th>Monthly_Bill</th>\n",
       "      <th>Total_Usage_GB</th>\n",
       "      <th>Churn</th>\n",
       "    </tr>\n",
       "  </thead>\n",
       "  <tbody>\n",
       "    <tr>\n",
       "      <th>0</th>\n",
       "      <td>63</td>\n",
       "      <td>Male</td>\n",
       "      <td>Los Angeles</td>\n",
       "      <td>17</td>\n",
       "      <td>73.36</td>\n",
       "      <td>236</td>\n",
       "      <td>0</td>\n",
       "    </tr>\n",
       "    <tr>\n",
       "      <th>1</th>\n",
       "      <td>62</td>\n",
       "      <td>Female</td>\n",
       "      <td>New York</td>\n",
       "      <td>1</td>\n",
       "      <td>48.76</td>\n",
       "      <td>172</td>\n",
       "      <td>0</td>\n",
       "    </tr>\n",
       "    <tr>\n",
       "      <th>2</th>\n",
       "      <td>24</td>\n",
       "      <td>Female</td>\n",
       "      <td>Los Angeles</td>\n",
       "      <td>5</td>\n",
       "      <td>85.47</td>\n",
       "      <td>460</td>\n",
       "      <td>0</td>\n",
       "    </tr>\n",
       "    <tr>\n",
       "      <th>3</th>\n",
       "      <td>36</td>\n",
       "      <td>Female</td>\n",
       "      <td>Miami</td>\n",
       "      <td>3</td>\n",
       "      <td>97.94</td>\n",
       "      <td>297</td>\n",
       "      <td>1</td>\n",
       "    </tr>\n",
       "    <tr>\n",
       "      <th>4</th>\n",
       "      <td>46</td>\n",
       "      <td>Female</td>\n",
       "      <td>Miami</td>\n",
       "      <td>19</td>\n",
       "      <td>58.14</td>\n",
       "      <td>266</td>\n",
       "      <td>0</td>\n",
       "    </tr>\n",
       "  </tbody>\n",
       "</table>\n",
       "</div>"
      ],
      "text/plain": [
       "   Age  Gender     Location  Subscription_Length_Months  Monthly_Bill  \\\n",
       "0   63    Male  Los Angeles                          17         73.36   \n",
       "1   62  Female     New York                           1         48.76   \n",
       "2   24  Female  Los Angeles                           5         85.47   \n",
       "3   36  Female        Miami                           3         97.94   \n",
       "4   46  Female        Miami                          19         58.14   \n",
       "\n",
       "   Total_Usage_GB  Churn  \n",
       "0             236      0  \n",
       "1             172      0  \n",
       "2             460      0  \n",
       "3             297      1  \n",
       "4             266      0  "
      ]
     },
     "execution_count": 13,
     "metadata": {},
     "output_type": "execute_result"
    }
   ],
   "source": [
    "data.head()"
   ]
  },
  {
   "cell_type": "markdown",
   "id": "62c87455",
   "metadata": {
    "papermill": {
     "duration": 0.022108,
     "end_time": "2023-08-25T20:59:29.115928",
     "exception": false,
     "start_time": "2023-08-25T20:59:29.093820",
     "status": "completed"
    },
    "tags": []
   },
   "source": [
    "#### Percentage of people churned by location"
   ]
  },
  {
   "cell_type": "code",
   "execution_count": 14,
   "id": "2c591441",
   "metadata": {
    "execution": {
     "iopub.execute_input": "2023-08-25T20:59:29.162061Z",
     "iopub.status.busy": "2023-08-25T20:59:29.161648Z",
     "iopub.status.idle": "2023-08-25T20:59:29.375337Z",
     "shell.execute_reply": "2023-08-25T20:59:29.374055Z"
    },
    "papermill": {
     "duration": 0.24034,
     "end_time": "2023-08-25T20:59:29.378114",
     "exception": false,
     "start_time": "2023-08-25T20:59:29.137774",
     "status": "completed"
    },
    "tags": []
   },
   "outputs": [
    {
     "name": "stdout",
     "output_type": "stream",
     "text": [
      "Percent of People Who Churned from Los Angeles ---> 49.2989371787835 %\n",
      "Percent of People Who Churned from New York ---> 50.36592136476051 %\n",
      "Percent of People Who Churned from Miami ---> 50.30203185063152 %\n",
      "Percent of People Who Churned from Chicago ---> 49.829642248722315 %\n",
      "Percent of People Who Churned from Houston ---> 49.10949049957831 %\n"
     ]
    }
   ],
   "source": [
    "## Location = Los Angeles\n",
    "\n",
    "churned_LA = data.Churn[(data.Location == 'Los Angeles') & (data.Churn == 1)].count()\n",
    "count_LA = data.Churn[data.Location == 'Los Angeles'].count()\n",
    "print(\"Percent of People Who Churned from Los Angeles --->\", churned_LA*100/count_LA,'%')\n",
    "\n",
    "\n",
    "\n",
    "\n",
    "## Location = New York\n",
    "\n",
    "churned_NY = data.Churn[(data.Location == 'New York') & (data.Churn == 1)].count()\n",
    "count_NY = data.Churn[data.Location == 'New York'].count()\n",
    "print(\"Percent of People Who Churned from New York --->\", churned_NY*100/count_NY,'%')\n",
    "\n",
    "\n",
    "\n",
    "\n",
    "\n",
    "## Location = Miami\n",
    "\n",
    "churned_Mi = data.Churn[(data.Location == 'Miami') & (data.Churn == 1)].count()\n",
    "count_Mi = data.Churn[data.Location == 'Miami'].count()\n",
    "print(\"Percent of People Who Churned from Miami --->\", churned_Mi*100/count_Mi,'%')\n",
    "\n",
    "\n",
    "\n",
    "\n",
    "\n",
    "## Location = Chicago\n",
    "\n",
    "churned_Chi = data.Churn[(data.Location == 'Chicago') & (data.Churn == 1)].count()\n",
    "count_Chi = data.Churn[data.Location == 'Chicago'].count()\n",
    "print(\"Percent of People Who Churned from Chicago --->\", churned_Chi*100/count_Chi,'%')\n",
    "\n",
    "\n",
    "\n",
    "\n",
    "\n",
    "\n",
    "\n",
    "## Location = Houston\n",
    "\n",
    "churned_H = data.Churn[(data.Location == 'Houston') & (data.Churn == 1)].count()\n",
    "count_H = data.Churn[data.Location == 'Houston'].count()\n",
    "print(\"Percent of People Who Churned from Houston --->\", churned_H*100/count_H,'%')"
   ]
  },
  {
   "cell_type": "markdown",
   "id": "50420632",
   "metadata": {
    "papermill": {
     "duration": 0.021975,
     "end_time": "2023-08-25T20:59:29.423222",
     "exception": false,
     "start_time": "2023-08-25T20:59:29.401247",
     "status": "completed"
    },
    "tags": []
   },
   "source": [
    "#### Percentage of people churned by gender"
   ]
  },
  {
   "cell_type": "code",
   "execution_count": 15,
   "id": "38d3ccf8",
   "metadata": {
    "execution": {
     "iopub.execute_input": "2023-08-25T20:59:29.470782Z",
     "iopub.status.busy": "2023-08-25T20:59:29.470022Z",
     "iopub.status.idle": "2023-08-25T20:59:29.564595Z",
     "shell.execute_reply": "2023-08-25T20:59:29.562850Z"
    },
    "papermill": {
     "duration": 0.122545,
     "end_time": "2023-08-25T20:59:29.568338",
     "exception": false,
     "start_time": "2023-08-25T20:59:29.445793",
     "status": "completed"
    },
    "tags": []
   },
   "outputs": [
    {
     "name": "stdout",
     "output_type": "stream",
     "text": [
      "Percent of Males Who Churned ---> 49.88550538325566 %\n",
      "Percent of Females Who Churned ---> 49.67341086506293 %\n"
     ]
    }
   ],
   "source": [
    "## Gender = Male\n",
    "\n",
    "churned_m = data.Churn[(data.Gender == 'Male') & (data.Churn == 1)].count()\n",
    "count_m = data.Churn[data.Gender == 'Male'].count()\n",
    "print(\"Percent of Males Who Churned --->\", churned_m*100/count_m,'%')\n",
    "\n",
    "\n",
    "\n",
    "\n",
    "\n",
    "\n",
    "\n",
    "## Gender = Female\n",
    "\n",
    "churned_f = data.Churn[(data.Gender == 'Female') & (data.Churn == 1)].count()\n",
    "count_f = data.Churn[data.Gender == 'Female'].count()\n",
    "print(\"Percent of Females Who Churned --->\", churned_f*100/count_f,'%')"
   ]
  },
  {
   "cell_type": "markdown",
   "id": "f167ddc7",
   "metadata": {
    "papermill": {
     "duration": 0.021368,
     "end_time": "2023-08-25T20:59:29.611837",
     "exception": false,
     "start_time": "2023-08-25T20:59:29.590469",
     "status": "completed"
    },
    "tags": []
   },
   "source": [
    "#### 1. Gender is a categorical data, so we should go for label encoding.\n",
    "\n",
    "#### 2. There are 5 unique locations --- 'Los Angeles', 'New York', 'Miami', 'Chicago', 'Houston' ---- so locations can also be label encoded."
   ]
  },
  {
   "cell_type": "code",
   "execution_count": 16,
   "id": "efd83888",
   "metadata": {
    "execution": {
     "iopub.execute_input": "2023-08-25T20:59:29.658579Z",
     "iopub.status.busy": "2023-08-25T20:59:29.658052Z",
     "iopub.status.idle": "2023-08-25T20:59:29.853696Z",
     "shell.execute_reply": "2023-08-25T20:59:29.852714Z"
    },
    "papermill": {
     "duration": 0.223342,
     "end_time": "2023-08-25T20:59:29.856798",
     "exception": false,
     "start_time": "2023-08-25T20:59:29.633456",
     "status": "completed"
    },
    "tags": []
   },
   "outputs": [],
   "source": [
    "from sklearn.preprocessing import StandardScaler,LabelEncoder"
   ]
  },
  {
   "cell_type": "markdown",
   "id": "b170c4c0",
   "metadata": {
    "papermill": {
     "duration": 0.023082,
     "end_time": "2023-08-25T20:59:29.902486",
     "exception": false,
     "start_time": "2023-08-25T20:59:29.879404",
     "status": "completed"
    },
    "tags": []
   },
   "source": [
    "#### Label Encoding on Gender and Location columns"
   ]
  },
  {
   "cell_type": "code",
   "execution_count": 17,
   "id": "13f4ee6f",
   "metadata": {
    "execution": {
     "iopub.execute_input": "2023-08-25T20:59:29.949963Z",
     "iopub.status.busy": "2023-08-25T20:59:29.949261Z",
     "iopub.status.idle": "2023-08-25T20:59:30.022888Z",
     "shell.execute_reply": "2023-08-25T20:59:30.021402Z"
    },
    "papermill": {
     "duration": 0.101601,
     "end_time": "2023-08-25T20:59:30.026469",
     "exception": false,
     "start_time": "2023-08-25T20:59:29.924868",
     "status": "completed"
    },
    "tags": []
   },
   "outputs": [],
   "source": [
    "#Convering Categorical Features into numerical features using LabelEncoder\n",
    "data['Gender'] = LabelEncoder().fit_transform(data['Gender'])\n",
    "data['Location'] = LabelEncoder().fit_transform(data['Location'])"
   ]
  },
  {
   "cell_type": "code",
   "execution_count": 18,
   "id": "0d06c663",
   "metadata": {
    "execution": {
     "iopub.execute_input": "2023-08-25T20:59:30.074028Z",
     "iopub.status.busy": "2023-08-25T20:59:30.073627Z",
     "iopub.status.idle": "2023-08-25T20:59:30.078340Z",
     "shell.execute_reply": "2023-08-25T20:59:30.077134Z"
    },
    "papermill": {
     "duration": 0.032663,
     "end_time": "2023-08-25T20:59:30.081609",
     "exception": false,
     "start_time": "2023-08-25T20:59:30.048946",
     "status": "completed"
    },
    "tags": []
   },
   "outputs": [],
   "source": [
    "# One-hot encoding on Gender Column\n",
    "\n",
    "\n",
    "#data_encoded = pd.get_dummies(data, columns=['Gender'], prefix=['Gender'])\n",
    "#data_encoded.head()\n",
    "\n",
    "\n",
    "\n",
    "# One-hot encoding on Location column\n",
    "\n",
    "#data_encoded = pd.get_dummies(data_encoded, columns=['Location'], prefix=['Location'])\n",
    "#data_encoded.head()"
   ]
  },
  {
   "cell_type": "code",
   "execution_count": 19,
   "id": "673718ec",
   "metadata": {
    "execution": {
     "iopub.execute_input": "2023-08-25T20:59:30.128011Z",
     "iopub.status.busy": "2023-08-25T20:59:30.127169Z",
     "iopub.status.idle": "2023-08-25T20:59:30.145139Z",
     "shell.execute_reply": "2023-08-25T20:59:30.143415Z"
    },
    "papermill": {
     "duration": 0.044401,
     "end_time": "2023-08-25T20:59:30.147933",
     "exception": false,
     "start_time": "2023-08-25T20:59:30.103532",
     "status": "completed"
    },
    "tags": []
   },
   "outputs": [
    {
     "name": "stdout",
     "output_type": "stream",
     "text": [
      "<class 'pandas.core.frame.DataFrame'>\n",
      "RangeIndex: 100000 entries, 0 to 99999\n",
      "Data columns (total 7 columns):\n",
      " #   Column                      Non-Null Count   Dtype  \n",
      "---  ------                      --------------   -----  \n",
      " 0   Age                         100000 non-null  int64  \n",
      " 1   Gender                      100000 non-null  int64  \n",
      " 2   Location                    100000 non-null  int64  \n",
      " 3   Subscription_Length_Months  100000 non-null  int64  \n",
      " 4   Monthly_Bill                100000 non-null  float64\n",
      " 5   Total_Usage_GB              100000 non-null  int64  \n",
      " 6   Churn                       100000 non-null  int64  \n",
      "dtypes: float64(1), int64(6)\n",
      "memory usage: 5.3 MB\n"
     ]
    }
   ],
   "source": [
    "data.info()"
   ]
  },
  {
   "cell_type": "markdown",
   "id": "e5ea7731",
   "metadata": {
    "papermill": {
     "duration": 0.020295,
     "end_time": "2023-08-25T20:59:30.188538",
     "exception": false,
     "start_time": "2023-08-25T20:59:30.168243",
     "status": "completed"
    },
    "tags": []
   },
   "source": [
    "#### HeatMap Analysis to check for correlation among the columns"
   ]
  },
  {
   "cell_type": "code",
   "execution_count": 20,
   "id": "77b1b8e5",
   "metadata": {
    "execution": {
     "iopub.execute_input": "2023-08-25T20:59:30.234429Z",
     "iopub.status.busy": "2023-08-25T20:59:30.233442Z",
     "iopub.status.idle": "2023-08-25T20:59:30.985797Z",
     "shell.execute_reply": "2023-08-25T20:59:30.984211Z"
    },
    "papermill": {
     "duration": 0.778301,
     "end_time": "2023-08-25T20:59:30.988485",
     "exception": false,
     "start_time": "2023-08-25T20:59:30.210184",
     "status": "completed"
    },
    "tags": []
   },
   "outputs": [
    {
     "data": {
      "text/plain": [
       "<Axes: >"
      ]
     },
     "execution_count": 20,
     "metadata": {},
     "output_type": "execute_result"
    },
    {
     "data": {
      "image/png": "[encoded data removed]",
      "text/plain": [
       "<Figure size 1200x1200 with 2 Axes>"
      ]
     },
     "metadata": {},
     "output_type": "display_data"
    }
   ],
   "source": [
    "plt.figure(figsize=(12,12))\n",
    "sns.heatmap(data=data.corr(), annot=True,cmap = \"GnBu\")"
   ]
  },
  {
   "cell_type": "markdown",
   "id": "fae73e5f",
   "metadata": {
    "papermill": {
     "duration": 0.021756,
     "end_time": "2023-08-25T20:59:31.032973",
     "exception": false,
     "start_time": "2023-08-25T20:59:31.011217",
     "status": "completed"
    },
    "tags": []
   },
   "source": [
    "## Split dataset into train-test"
   ]
  },
  {
   "cell_type": "code",
   "execution_count": 21,
   "id": "a311dbb1",
   "metadata": {
    "execution": {
     "iopub.execute_input": "2023-08-25T20:59:31.078797Z",
     "iopub.status.busy": "2023-08-25T20:59:31.078370Z",
     "iopub.status.idle": "2023-08-25T20:59:31.094607Z",
     "shell.execute_reply": "2023-08-25T20:59:31.093387Z"
    },
    "papermill": {
     "duration": 0.042384,
     "end_time": "2023-08-25T20:59:31.097069",
     "exception": false,
     "start_time": "2023-08-25T20:59:31.054685",
     "status": "completed"
    },
    "tags": []
   },
   "outputs": [
    {
     "name": "stdout",
     "output_type": "stream",
     "text": [
      "<class 'pandas.core.frame.DataFrame'>\n",
      "RangeIndex: 100000 entries, 0 to 99999\n",
      "Data columns (total 7 columns):\n",
      " #   Column                      Non-Null Count   Dtype  \n",
      "---  ------                      --------------   -----  \n",
      " 0   Age                         100000 non-null  int64  \n",
      " 1   Gender                      100000 non-null  int64  \n",
      " 2   Location                    100000 non-null  int64  \n",
      " 3   Subscription_Length_Months  100000 non-null  int64  \n",
      " 4   Monthly_Bill                100000 non-null  float64\n",
      " 5   Total_Usage_GB              100000 non-null  int64  \n",
      " 6   Churn                       100000 non-null  int64  \n",
      "dtypes: float64(1), int64(6)\n",
      "memory usage: 5.3 MB\n"
     ]
    }
   ],
   "source": [
    "data.info()"
   ]
  },
  {
   "cell_type": "code",
   "execution_count": 22,
   "id": "4c62a790",
   "metadata": {
    "execution": {
     "iopub.execute_input": "2023-08-25T20:59:31.147685Z",
     "iopub.status.busy": "2023-08-25T20:59:31.146162Z",
     "iopub.status.idle": "2023-08-25T20:59:31.167688Z",
     "shell.execute_reply": "2023-08-25T20:59:31.166216Z"
    },
    "papermill": {
     "duration": 0.049107,
     "end_time": "2023-08-25T20:59:31.170529",
     "exception": false,
     "start_time": "2023-08-25T20:59:31.121422",
     "status": "completed"
    },
    "tags": []
   },
   "outputs": [
    {
     "data": {
      "text/html": [
       "<div>\n",
       "<style scoped>\n",
       "    .dataframe tbody tr th:only-of-type {\n",
       "        vertical-align: middle;\n",
       "    }\n",
       "\n",
       "    .dataframe tbody tr th {\n",
       "        vertical-align: top;\n",
       "    }\n",
       "\n",
       "    .dataframe thead th {\n",
       "        text-align: right;\n",
       "    }\n",
       "</style>\n",
       "<table border=\"1\" class=\"dataframe\">\n",
       "  <thead>\n",
       "    <tr style=\"text-align: right;\">\n",
       "      <th></th>\n",
       "      <th>Age</th>\n",
       "      <th>Gender</th>\n",
       "      <th>Location</th>\n",
       "      <th>Subscription_Length_Months</th>\n",
       "      <th>Monthly_Bill</th>\n",
       "      <th>Total_Usage_GB</th>\n",
       "      <th>Churn</th>\n",
       "    </tr>\n",
       "  </thead>\n",
       "  <tbody>\n",
       "    <tr>\n",
       "      <th>0</th>\n",
       "      <td>63</td>\n",
       "      <td>1</td>\n",
       "      <td>2</td>\n",
       "      <td>17</td>\n",
       "      <td>73.36</td>\n",
       "      <td>236</td>\n",
       "      <td>0</td>\n",
       "    </tr>\n",
       "    <tr>\n",
       "      <th>1</th>\n",
       "      <td>62</td>\n",
       "      <td>0</td>\n",
       "      <td>4</td>\n",
       "      <td>1</td>\n",
       "      <td>48.76</td>\n",
       "      <td>172</td>\n",
       "      <td>0</td>\n",
       "    </tr>\n",
       "    <tr>\n",
       "      <th>2</th>\n",
       "      <td>24</td>\n",
       "      <td>0</td>\n",
       "      <td>2</td>\n",
       "      <td>5</td>\n",
       "      <td>85.47</td>\n",
       "      <td>460</td>\n",
       "      <td>0</td>\n",
       "    </tr>\n",
       "    <tr>\n",
       "      <th>3</th>\n",
       "      <td>36</td>\n",
       "      <td>0</td>\n",
       "      <td>3</td>\n",
       "      <td>3</td>\n",
       "      <td>97.94</td>\n",
       "      <td>297</td>\n",
       "      <td>1</td>\n",
       "    </tr>\n",
       "    <tr>\n",
       "      <th>4</th>\n",
       "      <td>46</td>\n",
       "      <td>0</td>\n",
       "      <td>3</td>\n",
       "      <td>19</td>\n",
       "      <td>58.14</td>\n",
       "      <td>266</td>\n",
       "      <td>0</td>\n",
       "    </tr>\n",
       "    <tr>\n",
       "      <th>...</th>\n",
       "      <td>...</td>\n",
       "      <td>...</td>\n",
       "      <td>...</td>\n",
       "      <td>...</td>\n",
       "      <td>...</td>\n",
       "      <td>...</td>\n",
       "      <td>...</td>\n",
       "    </tr>\n",
       "    <tr>\n",
       "      <th>99995</th>\n",
       "      <td>33</td>\n",
       "      <td>1</td>\n",
       "      <td>1</td>\n",
       "      <td>23</td>\n",
       "      <td>55.13</td>\n",
       "      <td>226</td>\n",
       "      <td>1</td>\n",
       "    </tr>\n",
       "    <tr>\n",
       "      <th>99996</th>\n",
       "      <td>62</td>\n",
       "      <td>0</td>\n",
       "      <td>4</td>\n",
       "      <td>19</td>\n",
       "      <td>61.65</td>\n",
       "      <td>351</td>\n",
       "      <td>0</td>\n",
       "    </tr>\n",
       "    <tr>\n",
       "      <th>99997</th>\n",
       "      <td>64</td>\n",
       "      <td>1</td>\n",
       "      <td>0</td>\n",
       "      <td>17</td>\n",
       "      <td>96.11</td>\n",
       "      <td>251</td>\n",
       "      <td>1</td>\n",
       "    </tr>\n",
       "    <tr>\n",
       "      <th>99998</th>\n",
       "      <td>51</td>\n",
       "      <td>0</td>\n",
       "      <td>4</td>\n",
       "      <td>20</td>\n",
       "      <td>49.25</td>\n",
       "      <td>434</td>\n",
       "      <td>1</td>\n",
       "    </tr>\n",
       "    <tr>\n",
       "      <th>99999</th>\n",
       "      <td>27</td>\n",
       "      <td>0</td>\n",
       "      <td>2</td>\n",
       "      <td>19</td>\n",
       "      <td>76.57</td>\n",
       "      <td>173</td>\n",
       "      <td>1</td>\n",
       "    </tr>\n",
       "  </tbody>\n",
       "</table>\n",
       "<p>100000 rows × 7 columns</p>\n",
       "</div>"
      ],
      "text/plain": [
       "       Age  Gender  Location  Subscription_Length_Months  Monthly_Bill  \\\n",
       "0       63       1         2                          17         73.36   \n",
       "1       62       0         4                           1         48.76   \n",
       "2       24       0         2                           5         85.47   \n",
       "3       36       0         3                           3         97.94   \n",
       "4       46       0         3                          19         58.14   \n",
       "...    ...     ...       ...                         ...           ...   \n",
       "99995   33       1         1                          23         55.13   \n",
       "99996   62       0         4                          19         61.65   \n",
       "99997   64       1         0                          17         96.11   \n",
       "99998   51       0         4                          20         49.25   \n",
       "99999   27       0         2                          19         76.57   \n",
       "\n",
       "       Total_Usage_GB  Churn  \n",
       "0                 236      0  \n",
       "1                 172      0  \n",
       "2                 460      0  \n",
       "3                 297      1  \n",
       "4                 266      0  \n",
       "...               ...    ...  \n",
       "99995             226      1  \n",
       "99996             351      0  \n",
       "99997             251      1  \n",
       "99998             434      1  \n",
       "99999             173      1  \n",
       "\n",
       "[100000 rows x 7 columns]"
      ]
     },
     "execution_count": 22,
     "metadata": {},
     "output_type": "execute_result"
    }
   ],
   "source": [
    "data"
   ]
  },
  {
   "cell_type": "code",
   "execution_count": 23,
   "id": "07c6f8c5",
   "metadata": {
    "execution": {
     "iopub.execute_input": "2023-08-25T20:59:31.216557Z",
     "iopub.status.busy": "2023-08-25T20:59:31.216071Z",
     "iopub.status.idle": "2023-08-25T20:59:31.242728Z",
     "shell.execute_reply": "2023-08-25T20:59:31.240593Z"
    },
    "papermill": {
     "duration": 0.05346,
     "end_time": "2023-08-25T20:59:31.246065",
     "exception": false,
     "start_time": "2023-08-25T20:59:31.192605",
     "status": "completed"
    },
    "tags": []
   },
   "outputs": [],
   "source": [
    "# shuffle all rows\n",
    "\n",
    "data_encoded = data.sample(frac=1, random_state=42)"
   ]
  },
  {
   "cell_type": "code",
   "execution_count": 24,
   "id": "b9c7056b",
   "metadata": {
    "execution": {
     "iopub.execute_input": "2023-08-25T20:59:31.293875Z",
     "iopub.status.busy": "2023-08-25T20:59:31.293051Z",
     "iopub.status.idle": "2023-08-25T20:59:31.301984Z",
     "shell.execute_reply": "2023-08-25T20:59:31.300594Z"
    },
    "papermill": {
     "duration": 0.035515,
     "end_time": "2023-08-25T20:59:31.304738",
     "exception": false,
     "start_time": "2023-08-25T20:59:31.269223",
     "status": "completed"
    },
    "tags": []
   },
   "outputs": [
    {
     "data": {
      "text/plain": [
       "(100000, 7)"
      ]
     },
     "execution_count": 24,
     "metadata": {},
     "output_type": "execute_result"
    }
   ],
   "source": [
    "data_encoded.shape"
   ]
  },
  {
   "cell_type": "code",
   "execution_count": 25,
   "id": "be1eec50",
   "metadata": {
    "execution": {
     "iopub.execute_input": "2023-08-25T20:59:31.358512Z",
     "iopub.status.busy": "2023-08-25T20:59:31.357384Z",
     "iopub.status.idle": "2023-08-25T20:59:31.520038Z",
     "shell.execute_reply": "2023-08-25T20:59:31.518454Z"
    },
    "papermill": {
     "duration": 0.194113,
     "end_time": "2023-08-25T20:59:31.523408",
     "exception": false,
     "start_time": "2023-08-25T20:59:31.329295",
     "status": "completed"
    },
    "tags": []
   },
   "outputs": [],
   "source": [
    "X = data_encoded.drop('Churn', axis=1)\n",
    "y = data_encoded['Churn']\n",
    "\n",
    "\n",
    "\n",
    "\n",
    "from sklearn.model_selection import train_test_split, cross_val_score, cross_val_predict\n",
    "from sklearn.metrics import accuracy_score\n",
    "\n",
    "\n",
    "#test size 20% and train size 80%\n",
    "X_train, X_test, y_train, y_test = train_test_split(X, y, test_size=0.2, random_state=7)\n",
    "\n",
    "\n",
    "\n",
    "#from sklearn.preprocessing import StandardScaler\n",
    "#ss = StandardScaler()\n",
    "#X_train = ss.fit_transform(X_train)\n",
    "#X_test = ss.transform(X_test)"
   ]
  },
  {
   "cell_type": "markdown",
   "id": "3f7fa47d",
   "metadata": {
    "papermill": {
     "duration": 0.024706,
     "end_time": "2023-08-25T20:59:31.575193",
     "exception": false,
     "start_time": "2023-08-25T20:59:31.550487",
     "status": "completed"
    },
    "tags": []
   },
   "source": [
    "## Building ML models"
   ]
  },
  {
   "cell_type": "markdown",
   "id": "8c590168",
   "metadata": {
    "papermill": {
     "duration": 0.021995,
     "end_time": "2023-08-25T20:59:31.622490",
     "exception": false,
     "start_time": "2023-08-25T20:59:31.600495",
     "status": "completed"
    },
    "tags": []
   },
   "source": [
    "### 1. Decision Tree"
   ]
  },
  {
   "cell_type": "code",
   "execution_count": 26,
   "id": "680b4474",
   "metadata": {
    "execution": {
     "iopub.execute_input": "2023-08-25T20:59:31.668515Z",
     "iopub.status.busy": "2023-08-25T20:59:31.668116Z",
     "iopub.status.idle": "2023-08-25T20:59:32.878281Z",
     "shell.execute_reply": "2023-08-25T20:59:32.877202Z"
    },
    "papermill": {
     "duration": 1.236426,
     "end_time": "2023-08-25T20:59:32.880985",
     "exception": false,
     "start_time": "2023-08-25T20:59:31.644559",
     "status": "completed"
    },
    "tags": []
   },
   "outputs": [
    {
     "name": "stdout",
     "output_type": "stream",
     "text": [
      "Accuracy Score : 49.9 %\n"
     ]
    }
   ],
   "source": [
    "from sklearn.tree import DecisionTreeClassifier\n",
    "\n",
    "\n",
    "dtree = DecisionTreeClassifier()\n",
    "dtree.fit(X_train, y_train)\n",
    "y_pred = dtree.predict(X_test)\n",
    "print(\"Accuracy Score :\", accuracy_score(y_test, y_pred)*100, \"%\")"
   ]
  },
  {
   "cell_type": "markdown",
   "id": "9c3d1310",
   "metadata": {
    "papermill": {
     "duration": 0.02193,
     "end_time": "2023-08-25T20:59:32.925634",
     "exception": false,
     "start_time": "2023-08-25T20:59:32.903704",
     "status": "completed"
    },
    "tags": []
   },
   "source": [
    "### 2. Random Forest"
   ]
  },
  {
   "cell_type": "code",
   "execution_count": 27,
   "id": "e61805be",
   "metadata": {
    "execution": {
     "iopub.execute_input": "2023-08-25T20:59:32.973937Z",
     "iopub.status.busy": "2023-08-25T20:59:32.972544Z",
     "iopub.status.idle": "2023-08-25T20:59:54.584653Z",
     "shell.execute_reply": "2023-08-25T20:59:54.583766Z"
    },
    "papermill": {
     "duration": 21.63808,
     "end_time": "2023-08-25T20:59:54.587076",
     "exception": false,
     "start_time": "2023-08-25T20:59:32.948996",
     "status": "completed"
    },
    "tags": []
   },
   "outputs": [
    {
     "name": "stdout",
     "output_type": "stream",
     "text": [
      "Accuracy Score : 50.005 %\n"
     ]
    }
   ],
   "source": [
    "from sklearn.ensemble import RandomForestClassifier\n",
    "rfc = RandomForestClassifier()\n",
    "rfc.fit(X_train, y_train)\n",
    "y_pred = rfc.predict(X_test)\n",
    "print(\"Accuracy Score :\", accuracy_score(y_test, y_pred)*100, \"%\")"
   ]
  },
  {
   "cell_type": "markdown",
   "id": "0b2e5e60",
   "metadata": {
    "papermill": {
     "duration": 0.021853,
     "end_time": "2023-08-25T20:59:54.631202",
     "exception": false,
     "start_time": "2023-08-25T20:59:54.609349",
     "status": "completed"
    },
    "tags": []
   },
   "source": [
    "### 3. Support Vector Machine"
   ]
  },
  {
   "cell_type": "code",
   "execution_count": 28,
   "id": "4228f7d3",
   "metadata": {
    "execution": {
     "iopub.execute_input": "2023-08-25T20:59:54.677792Z",
     "iopub.status.busy": "2023-08-25T20:59:54.676838Z",
     "iopub.status.idle": "2023-08-25T21:06:31.522235Z",
     "shell.execute_reply": "2023-08-25T21:06:31.520659Z"
    },
    "papermill": {
     "duration": 396.893178,
     "end_time": "2023-08-25T21:06:31.546491",
     "exception": false,
     "start_time": "2023-08-25T20:59:54.653313",
     "status": "completed"
    },
    "tags": []
   },
   "outputs": [
    {
     "name": "stdout",
     "output_type": "stream",
     "text": [
      "Accuracy Score : 49.830000000000005 %\n"
     ]
    }
   ],
   "source": [
    "from sklearn import svm\n",
    "svm = svm.SVC()\n",
    "svm.fit(X_train, y_train)\n",
    "y_pred = svm.predict(X_test)\n",
    "print(\"Accuracy Score :\", accuracy_score(y_test, y_pred)*100, \"%\")"
   ]
  },
  {
   "cell_type": "markdown",
   "id": "37c9e4dd",
   "metadata": {
    "papermill": {
     "duration": 0.021646,
     "end_time": "2023-08-25T21:06:31.590018",
     "exception": false,
     "start_time": "2023-08-25T21:06:31.568372",
     "status": "completed"
    },
    "tags": []
   },
   "source": [
    "### 4. MLP"
   ]
  },
  {
   "cell_type": "code",
   "execution_count": 29,
   "id": "00dad859",
   "metadata": {
    "execution": {
     "iopub.execute_input": "2023-08-25T21:06:31.636369Z",
     "iopub.status.busy": "2023-08-25T21:06:31.635935Z",
     "iopub.status.idle": "2023-08-25T21:06:31.644164Z",
     "shell.execute_reply": "2023-08-25T21:06:31.642563Z"
    },
    "papermill": {
     "duration": 0.034533,
     "end_time": "2023-08-25T21:06:31.646712",
     "exception": false,
     "start_time": "2023-08-25T21:06:31.612179",
     "status": "completed"
    },
    "tags": []
   },
   "outputs": [
    {
     "data": {
      "text/plain": [
       "6"
      ]
     },
     "execution_count": 29,
     "metadata": {},
     "output_type": "execute_result"
    }
   ],
   "source": [
    "X_train.shape[1]"
   ]
  },
  {
   "cell_type": "code",
   "execution_count": 30,
   "id": "0087f28b",
   "metadata": {
    "execution": {
     "iopub.execute_input": "2023-08-25T21:06:31.693976Z",
     "iopub.status.busy": "2023-08-25T21:06:31.693601Z",
     "iopub.status.idle": "2023-08-25T21:06:41.857560Z",
     "shell.execute_reply": "2023-08-25T21:06:41.855967Z"
    },
    "papermill": {
     "duration": 10.191217,
     "end_time": "2023-08-25T21:06:41.860331",
     "exception": false,
     "start_time": "2023-08-25T21:06:31.669114",
     "status": "completed"
    },
    "tags": []
   },
   "outputs": [
    {
     "name": "stderr",
     "output_type": "stream",
     "text": [
      "/opt/conda/lib/python3.10/site-packages/tensorflow_io/python/ops/__init__.py:98: UserWarning: unable to load libtensorflow_io_plugins.so: unable to open file: libtensorflow_io_plugins.so, from paths: ['/opt/conda/lib/python3.10/site-packages/tensorflow_io/python/ops/libtensorflow_io_plugins.so']\n",
      "caused by: ['/opt/conda/lib/python3.10/site-packages/tensorflow_io/python/ops/libtensorflow_io_plugins.so: undefined symbol: _ZN3tsl6StatusC1EN10tensorflow5error4CodeESt17basic_string_viewIcSt11char_traitsIcEENS_14SourceLocationE']\n",
      "  warnings.warn(f\"unable to load libtensorflow_io_plugins.so: {e}\")\n",
      "/opt/conda/lib/python3.10/site-packages/tensorflow_io/python/ops/__init__.py:104: UserWarning: file system plugins are not loaded: unable to open file: libtensorflow_io.so, from paths: ['/opt/conda/lib/python3.10/site-packages/tensorflow_io/python/ops/libtensorflow_io.so']\n",
      "caused by: ['/opt/conda/lib/python3.10/site-packages/tensorflow_io/python/ops/libtensorflow_io.so: undefined symbol: _ZTVN10tensorflow13GcsFileSystemE']\n",
      "  warnings.warn(f\"file system plugins are not loaded: {e}\")\n"
     ]
    }
   ],
   "source": [
    "import tensorflow as tf\n",
    "from tensorflow import keras\n",
    "\n",
    "\n",
    "\n",
    "\n",
    "\n",
    "# Custom accuracy metric\n",
    "def custom_accuracy(y_true, y_pred):\n",
    "    y_pred_binary = tf.round(y_pred)\n",
    "    return tf.keras.metrics.binary_accuracy(y_true, y_pred_binary)\n",
    "\n",
    "# Custom precision metric\n",
    "def custom_precision(y_true, y_pred):\n",
    "    y_pred_binary = tf.round(y_pred)\n",
    "    true_positives = tf.math.reduce_sum(y_true * y_pred_binary)\n",
    "    predicted_positives = tf.math.reduce_sum(y_pred_binary)\n",
    "    return true_positives / (predicted_positives + tf.keras.backend.epsilon())\n",
    "\n",
    "# Custom recall metric\n",
    "def custom_recall(y_true, y_pred):\n",
    "    y_pred_binary = tf.round(y_pred)\n",
    "    true_positives = tf.math.reduce_sum(y_true * y_pred_binary)\n",
    "    actual_positives = tf.math.reduce_sum(y_true)\n",
    "    return true_positives / (actual_positives + tf.keras.backend.epsilon())\n",
    "\n",
    "# Custom F1-score metric\n",
    "def custom_f1(y_true, y_pred):\n",
    "    precision = custom_precision(y_true, y_pred)\n",
    "    recall = custom_recall(y_true, y_pred)\n",
    "    return 2 * ((precision * recall) / (precision + recall + tf.keras.backend.epsilon()))"
   ]
  },
  {
   "cell_type": "code",
   "execution_count": 31,
   "id": "f38b8e8b",
   "metadata": {
    "execution": {
     "iopub.execute_input": "2023-08-25T21:06:41.908966Z",
     "iopub.status.busy": "2023-08-25T21:06:41.908158Z",
     "iopub.status.idle": "2023-08-25T21:07:33.492496Z",
     "shell.execute_reply": "2023-08-25T21:07:33.491116Z"
    },
    "papermill": {
     "duration": 51.61236,
     "end_time": "2023-08-25T21:07:33.495751",
     "exception": false,
     "start_time": "2023-08-25T21:06:41.883391",
     "status": "completed"
    },
    "tags": []
   },
   "outputs": [
    {
     "name": "stdout",
     "output_type": "stream",
     "text": [
      "Epoch 1/10\n",
      "2250/2250 [==============================] - 6s 2ms/step - loss: 29.6798 - accuracy: 0.4971 - val_loss: 4.4809 - val_accuracy: 0.4929\n",
      "Epoch 2/10\n",
      "2250/2250 [==============================] - 5s 2ms/step - loss: 2.4420 - accuracy: 0.4990 - val_loss: 0.7643 - val_accuracy: 0.4925\n",
      "Epoch 3/10\n",
      "2250/2250 [==============================] - 5s 2ms/step - loss: 0.7049 - accuracy: 0.5021 - val_loss: 0.6936 - val_accuracy: 0.5084\n",
      "Epoch 4/10\n",
      "2250/2250 [==============================] - 5s 2ms/step - loss: 0.6988 - accuracy: 0.4993 - val_loss: 0.6984 - val_accuracy: 0.5058\n",
      "Epoch 5/10\n",
      "2250/2250 [==============================] - 5s 2ms/step - loss: 0.6988 - accuracy: 0.5005 - val_loss: 0.6932 - val_accuracy: 0.5069\n",
      "Epoch 6/10\n",
      "2250/2250 [==============================] - 5s 2ms/step - loss: 0.6981 - accuracy: 0.5013 - val_loss: 0.7000 - val_accuracy: 0.4947\n",
      "Epoch 7/10\n",
      "2250/2250 [==============================] - 5s 2ms/step - loss: 0.6979 - accuracy: 0.4996 - val_loss: 0.6934 - val_accuracy: 0.5015\n",
      "Epoch 8/10\n",
      "2250/2250 [==============================] - 5s 2ms/step - loss: 0.6996 - accuracy: 0.4992 - val_loss: 0.6935 - val_accuracy: 0.4959\n",
      "Epoch 9/10\n",
      "2250/2250 [==============================] - 5s 2ms/step - loss: 0.6984 - accuracy: 0.5004 - val_loss: 0.7519 - val_accuracy: 0.5058\n",
      "Epoch 10/10\n",
      "2250/2250 [==============================] - 5s 2ms/step - loss: 0.6972 - accuracy: 0.5016 - val_loss: 0.6935 - val_accuracy: 0.5055\n",
      "625/625 [==============================] - 1s 1ms/step\n"
     ]
    }
   ],
   "source": [
    "import tensorflow as tf\n",
    "from tensorflow import keras\n",
    "from sklearn.metrics import accuracy_score, precision_score, recall_score, f1_score\n",
    "\n",
    "\n",
    "\n",
    "model = keras.Sequential([\n",
    "    keras.layers.Input(shape=(X_train.shape[1],)),  \n",
    "    keras.layers.Dense(8, activation='relu'),      \n",
    "    keras.layers.Dense(4, activation='relu'),       \n",
    "    keras.layers.Dense(1, activation='sigmoid')      # Output layer with 1 neuron and sigmoid activation\n",
    "])\n",
    "\n",
    "\n",
    "\n",
    "learning_rate = 0.0001  \n",
    "optimizer = tf.keras.optimizers.Adam(learning_rate=learning_rate)\n",
    "\n",
    "\n",
    "# Compile the model\n",
    "# model.compile(optimizer=optimizer, loss='binary_crossentropy', metrics=[custom_accuracy, custom_precision, custom_recall, custom_f1])\n",
    "model.compile(optimizer=optimizer, loss='binary_crossentropy', metrics=['accuracy'])\n",
    "\n",
    "\n",
    "\n",
    "\n",
    "# Train the model on the training data\n",
    "model.fit(X_train, y_train, epochs=10, batch_size=32, validation_split=0.1)\n",
    "\n",
    "# Predict churn on the test data\n",
    "y_pred = model.predict(X_test)"
   ]
  },
  {
   "cell_type": "code",
   "execution_count": 32,
   "id": "c1cd5742",
   "metadata": {
    "execution": {
     "iopub.execute_input": "2023-08-25T21:07:33.718504Z",
     "iopub.status.busy": "2023-08-25T21:07:33.717981Z",
     "iopub.status.idle": "2023-08-25T21:07:33.729898Z",
     "shell.execute_reply": "2023-08-25T21:07:33.728189Z"
    },
    "papermill": {
     "duration": 0.127217,
     "end_time": "2023-08-25T21:07:33.732561",
     "exception": false,
     "start_time": "2023-08-25T21:07:33.605344",
     "status": "completed"
    },
    "tags": []
   },
   "outputs": [
    {
     "name": "stdout",
     "output_type": "stream",
     "text": [
      "Accuracy Score: 49.864999999999995 %\n"
     ]
    }
   ],
   "source": [
    "# Calculate and print accuracy score\n",
    "\n",
    "\n",
    "accuracy = accuracy_score(np.asarray(y_test, dtype = int), np.asarray(y_pred, dtype = int))\n",
    "print(\"Accuracy Score:\", accuracy * 100, \"%\")"
   ]
  },
  {
   "cell_type": "code",
   "execution_count": 33,
   "id": "7f609e87",
   "metadata": {
    "execution": {
     "iopub.execute_input": "2023-08-25T21:07:33.945397Z",
     "iopub.status.busy": "2023-08-25T21:07:33.944872Z",
     "iopub.status.idle": "2023-08-25T21:07:33.950928Z",
     "shell.execute_reply": "2023-08-25T21:07:33.949415Z"
    },
    "papermill": {
     "duration": 0.11591,
     "end_time": "2023-08-25T21:07:33.953443",
     "exception": false,
     "start_time": "2023-08-25T21:07:33.837533",
     "status": "completed"
    },
    "tags": []
   },
   "outputs": [],
   "source": [
    "#import pickle\n",
    "#pickle_out = open(\"model.pkl\", \"wb\")\n",
    "#pickle.dump(model, pickle_out)\n",
    "#pickle_out.close()"
   ]
  },
  {
   "cell_type": "code",
   "execution_count": 34,
   "id": "ee5366a8",
   "metadata": {
    "execution": {
     "iopub.execute_input": "2023-08-25T21:07:34.166568Z",
     "iopub.status.busy": "2023-08-25T21:07:34.165201Z",
     "iopub.status.idle": "2023-08-25T21:07:34.200097Z",
     "shell.execute_reply": "2023-08-25T21:07:34.198679Z"
    },
    "papermill": {
     "duration": 0.14628,
     "end_time": "2023-08-25T21:07:34.203390",
     "exception": false,
     "start_time": "2023-08-25T21:07:34.057110",
     "status": "completed"
    },
    "tags": []
   },
   "outputs": [],
   "source": [
    "model.save(\"model.h5\")"
   ]
  },
  {
   "cell_type": "code",
   "execution_count": 35,
   "id": "3b47703b",
   "metadata": {
    "execution": {
     "iopub.execute_input": "2023-08-25T21:07:34.424970Z",
     "iopub.status.busy": "2023-08-25T21:07:34.424580Z",
     "iopub.status.idle": "2023-08-25T21:07:34.515976Z",
     "shell.execute_reply": "2023-08-25T21:07:34.514641Z"
    },
    "papermill": {
     "duration": 0.206755,
     "end_time": "2023-08-25T21:07:34.519666",
     "exception": false,
     "start_time": "2023-08-25T21:07:34.312911",
     "status": "completed"
    },
    "tags": []
   },
   "outputs": [],
   "source": [
    "model = tf.keras.models.load_model(\"/kaggle/working/model.h5\")"
   ]
  },
  {
   "cell_type": "code",
   "execution_count": 36,
   "id": "0353aa66",
   "metadata": {
    "execution": {
     "iopub.execute_input": "2023-08-25T21:07:34.741460Z",
     "iopub.status.busy": "2023-08-25T21:07:34.741056Z",
     "iopub.status.idle": "2023-08-25T21:07:34.881482Z",
     "shell.execute_reply": "2023-08-25T21:07:34.879851Z"
    },
    "papermill": {
     "duration": 0.255092,
     "end_time": "2023-08-25T21:07:34.884326",
     "exception": false,
     "start_time": "2023-08-25T21:07:34.629234",
     "status": "completed"
    },
    "tags": []
   },
   "outputs": [
    {
     "name": "stdout",
     "output_type": "stream",
     "text": [
      "1/1 [==============================] - 0s 80ms/step\n"
     ]
    }
   ],
   "source": [
    "Age = 24\n",
    "Gender = 1\n",
    "Location = 2\n",
    "Subscription_Length_Months = 21\n",
    "Monthly_Bill = 1000\n",
    "Total_Usage_GB = 1200\n",
    "\n",
    "prediction = model.predict([[Age, Gender, Location, Subscription_Length_Months, Monthly_Bill, Total_Usage_GB]])"
   ]
  },
  {
   "cell_type": "code",
   "execution_count": 37,
   "id": "8e4ad83f",
   "metadata": {
    "execution": {
     "iopub.execute_input": "2023-08-25T21:07:35.095729Z",
     "iopub.status.busy": "2023-08-25T21:07:35.095252Z",
     "iopub.status.idle": "2023-08-25T21:07:35.105348Z",
     "shell.execute_reply": "2023-08-25T21:07:35.103868Z"
    },
    "papermill": {
     "duration": 0.119266,
     "end_time": "2023-08-25T21:07:35.108137",
     "exception": false,
     "start_time": "2023-08-25T21:07:34.988871",
     "status": "completed"
    },
    "tags": []
   },
   "outputs": [
    {
     "data": {
      "text/plain": [
       "0"
      ]
     },
     "execution_count": 37,
     "metadata": {},
     "output_type": "execute_result"
    }
   ],
   "source": [
    "int(prediction[0][0])"
   ]
  },
  {
   "cell_type": "code",
   "execution_count": 38,
   "id": "7d539a30",
   "metadata": {
    "execution": {
     "iopub.execute_input": "2023-08-25T21:07:35.321714Z",
     "iopub.status.busy": "2023-08-25T21:07:35.321258Z",
     "iopub.status.idle": "2023-08-25T21:07:35.330056Z",
     "shell.execute_reply": "2023-08-25T21:07:35.328665Z"
    },
    "papermill": {
     "duration": 0.118136,
     "end_time": "2023-08-25T21:07:35.332513",
     "exception": false,
     "start_time": "2023-08-25T21:07:35.214377",
     "status": "completed"
    },
    "tags": []
   },
   "outputs": [
    {
     "data": {
      "text/plain": [
       "0"
      ]
     },
     "execution_count": 38,
     "metadata": {},
     "output_type": "execute_result"
    }
   ],
   "source": [
    "if prediction[0][0] >= 0.5:\n",
    "    result = 1\n",
    "else:\n",
    "    result = 0\n",
    "result"
   ]
  }
 ],
 "metadata": {
  "kernelspec": {
   "display_name": "Python 3",
   "language": "python",
   "name": "python3"
  },
  "language_info": {
   "codemirror_mode": {
    "name": "ipython",
    "version": 3
   },
   "file_extension": ".py",
   "mimetype": "text/x-python",
   "name": "python",
   "nbconvert_exporter": "python",
   "pygments_lexer": "ipython3",
   "version": "3.10.12"
  },
  "papermill": {
   "default_parameters": {},
   "duration": 508.127179,
   "end_time": "2023-08-25T21:07:38.100743",
   "environment_variables": {},
   "exception": null,
   "input_path": "__notebook__.ipynb",
   "output_path": "__notebook__.ipynb",
   "parameters": {},
   "start_time": "2023-08-25T20:59:09.973564",
   "version": "2.4.0"
  }
 },
 "nbformat": 4,
 "nbformat_minor": 5
}
